{
 "cells": [
  {
   "cell_type": "code",
   "execution_count": 1,
   "metadata": {},
   "outputs": [],
   "source": [
    "def partition(list): \n",
    "    if len(list) <= 1:\n",
    "        return list\n",
    "    else:\n",
    "        pivot=list[0]\n",
    "        left=[]\n",
    "        right=[]\n",
    "        middle=[]\n",
    "        for i in list:\n",
    "            if i < pivot:\n",
    "                left.append(i)\n",
    "            elif i==pivot:\n",
    "                middle.append(i)\n",
    "            else:\n",
    "                right.append(i)\n",
    "\n",
    "        return partition(left)+middle+partition(right)   "
   ]
  },
  {
   "cell_type": "code",
   "execution_count": 2,
   "metadata": {},
   "outputs": [
    {
     "data": {
      "text/plain": [
       "[5, 6, 7, 8, 9, 14]"
      ]
     },
     "execution_count": 2,
     "metadata": {},
     "output_type": "execute_result"
    }
   ],
   "source": [
    "alist=[8,14,5,6,7,9]\n",
    "partition(alist)"
   ]
  },
  {
   "cell_type": "code",
   "execution_count": null,
   "metadata": {},
   "outputs": [],
   "source": []
  }
 ],
 "metadata": {
  "kernelspec": {
   "display_name": "Python 3",
   "language": "python",
   "name": "python3"
  },
  "language_info": {
   "codemirror_mode": {
    "name": "ipython",
    "version": 3
   },
   "file_extension": ".py",
   "mimetype": "text/x-python",
   "name": "python",
   "nbconvert_exporter": "python",
   "pygments_lexer": "ipython3",
   "version": "3.7.1"
  }
 },
 "nbformat": 4,
 "nbformat_minor": 2
}
