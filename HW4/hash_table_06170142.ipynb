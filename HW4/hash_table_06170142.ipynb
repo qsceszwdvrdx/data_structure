{
 "cells": [
  {
   "cell_type": "markdown",
   "metadata": {},
   "source": [
    "    參考:https://www.youtube.com/watch?v=oqzStHk36PI&feature=youtu.be"
   ]
  },
  {
   "cell_type": "code",
   "execution_count": 54,
   "metadata": {},
   "outputs": [],
   "source": [
    "from Crypto.Hash import MD5\n",
    "class ListNode:\n",
    "    def __init__(self, val):\n",
    "        self.val = val\n",
    "        self.next = None\n",
    "\n",
    "class MyHashSet:\n",
    "    def __init__(self, capacity):             #如果capacity=n 0.1.2.3...n-1\n",
    "        self.capacity = capacity\n",
    "        self.data = [None] * self.capacity\n",
    "\n",
    "    def add(self, key):\n",
    "        h=MD5.new()\n",
    "        h.update(key.encode(\"utf-8\"))           #使用 MD5用 utf-8編碼 再轉成10進位>>>area\n",
    "        area = int(h.hexdigest(),16)            \n",
    "        idx =  area % self.capacity             #用餘數分類 分成不同的 node\n",
    "        node = self.data[idx]\n",
    "        \n",
    "        while node:\n",
    "            if node.val == area:                 \n",
    "                return         \n",
    "            node = node.next                    #不管if成不成立 都移動 node>>>node.next\n",
    "            \n",
    "        new_node = ListNode(area)               #把值放進去           \n",
    "        new_node.next = self.data[idx] \n",
    "        self.data[idx] = new_node\n",
    "        \n",
    "    def remove(self, key):\n",
    "        \n",
    "        h=MD5.new()\n",
    "        h.update(key.encode(\"utf-8\"))\n",
    "        area = int(h.hexdigest(),16)\n",
    "        idx =  area % self.capacity\n",
    "        node = self.data[idx]\n",
    "        \n",
    "        if node and node.val == area:       \n",
    "            self.data[idx] = node.next\n",
    "            return\n",
    "        pre = None                               #leetcode概念\n",
    "        while node:\n",
    "            if node.val == area:                 #移動 node.next>>>node \n",
    "                pre.next = node.next\n",
    "                return                           #用pre連接\n",
    "            pre = node\n",
    "            node = node.next\n",
    "\n",
    "    def contains(self, key):\n",
    "        \n",
    "        h=MD5.new()\n",
    "        h.update(key.encode(\"utf-8\"))\n",
    "        area = int(h.hexdigest(),16)\n",
    "        idx =  area % self.capacity\n",
    "        node = self.data[idx]\n",
    "        \n",
    "        while node:\n",
    "            if node.val == area:            \n",
    "                return True\n",
    "            node = node.next                      #通通測過一輪\n",
    "        return False\n"
   ]
  },
  {
   "cell_type": "markdown",
   "metadata": {},
   "source": [
    "    稽查結果"
   ]
  },
  {
   "cell_type": "code",
   "execution_count": 50,
   "metadata": {},
   "outputs": [
    {
     "name": "stdout",
     "output_type": "stream",
     "text": [
      "None\n",
      "2\n"
     ]
    }
   ],
   "source": [
    "a=MyHashSet().add(\"dog\")\n",
    "b=MyHashSet().contains(\"dog\")\n",
    "print(a)\n",
    "print(b)"
   ]
  },
  {
   "cell_type": "code",
   "execution_count": 57,
   "metadata": {},
   "outputs": [
    {
     "name": "stdout",
     "output_type": "stream",
     "text": [
      "True\n"
     ]
    }
   ],
   "source": [
    "hashSet=MyHashSet()\n",
    "hashSet.add('dog')\n",
    "hashSet.contains('dog')\n",
    "rel=hashSet.contains('dog')\n",
    "print(rel)"
   ]
  },
  {
   "cell_type": "code",
   "execution_count": 58,
   "metadata": {},
   "outputs": [
    {
     "name": "stdout",
     "output_type": "stream",
     "text": [
      "True\n"
     ]
    }
   ],
   "source": [
    "hashSet=MyHashSet()\n",
    "hashSet.add('pot')\n",
    "hashSet.contains('pot')\n",
    "rel=hashSet.contains('pot')\n",
    "print(rel)"
   ]
  },
  {
   "cell_type": "code",
   "execution_count": 59,
   "metadata": {},
   "outputs": [
    {
     "name": "stdout",
     "output_type": "stream",
     "text": [
      "False\n"
     ]
    }
   ],
   "source": [
    "hashSet=MyHashSet()\n",
    "hashSet.add('pot')\n",
    "hashSet.contains('riot')\n",
    "rel=hashSet.contains('riot')\n",
    "print(rel)"
   ]
  },
  {
   "cell_type": "code",
   "execution_count": null,
   "metadata": {},
   "outputs": [],
   "source": []
  },
  {
   "cell_type": "code",
   "execution_count": null,
   "metadata": {},
   "outputs": [],
   "source": []
  },
  {
   "cell_type": "code",
   "execution_count": null,
   "metadata": {},
   "outputs": [],
   "source": []
  }
 ],
 "metadata": {
  "kernelspec": {
   "display_name": "Python 3",
   "language": "python",
   "name": "python3"
  },
  "language_info": {
   "codemirror_mode": {
    "name": "ipython",
    "version": 3
   },
   "file_extension": ".py",
   "mimetype": "text/x-python",
   "name": "python",
   "nbconvert_exporter": "python",
   "pygments_lexer": "ipython3",
   "version": "3.7.1"
  }
 },
 "nbformat": 4,
 "nbformat_minor": 2
}
