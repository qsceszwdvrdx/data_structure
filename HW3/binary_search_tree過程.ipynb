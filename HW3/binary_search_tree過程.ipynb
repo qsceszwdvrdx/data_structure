{
 "cells": [
  {
   "cell_type": "code",
   "execution_count": 1,
   "metadata": {},
   "outputs": [],
   "source": [
    "class TreeNode(object):\n",
    "    def __init__(self,x):\n",
    "        self.val = x\n",
    "        self.left = None\n",
    "        self.right = None\n",
    "        \"\"\"\n",
    "        :type val: int\n",
    "        :type left: TreeNode or None\n",
    "        :type right: TreeNode or None\n",
    "        \"\"\"\n",
    "class Solution(object):\n",
    "    def insert(self, root, val):\n",
    "        \"\"\"\n",
    "        :type root: TreeNode\n",
    "        :type val: int\n",
    "        :rtype: TreeNode(inserted node)\n",
    "        \"\"\"\n",
    "    def delete(self, root, target):\n",
    "        \"\"\"\n",
    "        :type root: TreeNode\n",
    "        :type target: int\n",
    "        :rtype: TreeNode(the root of new completed binary search tree) (cannot search())\n",
    "        \"\"\"\n",
    "    def search(self, root, target):\n",
    "        \"\"\"\n",
    "        :type root: TreeNode\n",
    "        :type target: int\n",
    "        :rtype: TreeNode(searched node)\n",
    "        \"\"\"\n",
    "    def modify(self, root, target, new_val):\n",
    "        \"\"\"\n",
    "        :type root: TreeNode\n",
    "        :type target: int\n",
    "        :type new_val: int\n",
    "        :rtype:TreeNode(the root of new completed binary search tree) (cannot search())\n",
    "        \"\"\""
   ]
  },
  {
   "cell_type": "markdown",
   "metadata": {},
   "source": [
    "    基本結構 要排位置 基本上要有左右才能排"
   ]
  },
  {
   "cell_type": "code",
   "execution_count": 2,
   "metadata": {},
   "outputs": [],
   "source": [
    "class TreeNode(object):\n",
    "    def __init__(self,x):\n",
    "        self.val = x\n",
    "        self.left = None\n",
    "        self.right = None"
   ]
  },
  {
   "cell_type": "markdown",
   "metadata": {},
   "source": [
    "    新增功能 讓資料可以放進去\n",
    "    決定root之後 比root小的放左邊 其他放右邊\n",
    "    \n",
    "    BST寫法：\n",
    "    https://www.geeksforgeeks.org/binary-search-tree-set-1-search-and-insertion/\n",
    "    https://buptldy.github.io/2016/05/09/2016-05-09-Python%20BST/\n",
    "    \n",
    "    insert寫法：\n",
    "    https://www.runoob.com/python/att-list-insert.html"
   ]
  },
  {
   "cell_type": "code",
   "execution_count": 10,
   "metadata": {},
   "outputs": [],
   "source": [
    "def insert(self, root, val):\n",
    "#         \"\"\"\n",
    "#         :type root: TreeNode\n",
    "#         :type val: int\n",
    "#         :rtype: TreeNode(inserted node)\n",
    "#         \"\"\"\n",
    "    newnode = TreeNode(val)      #連接到TreeNode\n",
    "\n",
    "    if root is None:\n",
    "        return newnode\n",
    "\n",
    "    else:\n",
    "        if root.val > val:\n",
    "            if root.right is None:\n",
    "                root.right= newnode\n",
    "                return root.right\n",
    "            else:\n",
    "#                 insert(root.right,val)\n",
    "#             return root.right\n",
    "                return self.insert(root.left,val)\n",
    "        \n",
    "                \n",
    "        else:\n",
    "            if root.left is None:\n",
    "                root.left= newnode\n",
    "                return root.left\n",
    "            else:\n",
    "#                 insert(root.left,val)\n",
    "#             return root.left\n",
    "                return self.insert(root.left,val)"
   ]
  },
  {
   "cell_type": "markdown",
   "metadata": {},
   "source": [
    "    每一個值(有/沒有)都要靠慮到 比root大 如果右邊沒有 就放右邊 比root小同理"
   ]
  },
  {
   "cell_type": "markdown",
   "metadata": {},
   "source": [
    "    搜尋功能"
   ]
  },
  {
   "cell_type": "code",
   "execution_count": 19,
   "metadata": {},
   "outputs": [],
   "source": [
    "def search(self,root,target): \n",
    "                                # 3種不同的狀況\n",
    "    if  root.val == target: \n",
    "        return root \n",
    "    \n",
    "    if root.val < target: \n",
    "        if root.left.val == target:\n",
    "            return root.left\n",
    "                                # 移動root\n",
    "        else:\n",
    "            return self(root.left,target)\n",
    "    \n",
    "    \n",
    "    if root.val > target:\n",
    "        if root.right.val == target:\n",
    "            return root.right\n",
    "                                # 移動root\n",
    "        else:\n",
    "            return self(root.right,target)"
   ]
  },
  {
   "cell_type": "markdown",
   "metadata": {},
   "source": [
    "    沒考慮到 None 的情況"
   ]
  },
  {
   "cell_type": "code",
   "execution_count": 20,
   "metadata": {},
   "outputs": [],
   "source": [
    "def search(self,root,target): \n",
    "    if root:              \n",
    "                                        # 3種不同的狀況\n",
    "        if  root.val == target: \n",
    "            return root \n",
    "\n",
    "        if root.val < target: \n",
    "            if root.left:\n",
    "                \n",
    "                if root.left.val == target:\n",
    "                    return root.left\n",
    "                                        # 移動root\n",
    "                else:\n",
    "                    return self(root.left,target)\n",
    "                \n",
    "            else:\n",
    "                return None\n",
    "\n",
    "\n",
    "        if root.val > target:\n",
    "            if root.right:\n",
    "                \n",
    "                if root.right.val == target:\n",
    "                    return root.right\n",
    "                                        # 移動root\n",
    "                else:\n",
    "                    return self(root.right,target)\n",
    "            \n",
    "            else:\n",
    "                return None\n",
    "            \n",
    "    else:\n",
    "        return None"
   ]
  },
  {
   "cell_type": "markdown",
   "metadata": {},
   "source": [
    "    在找值的時候 會有三種狀況 比較大/一樣大/比較小\n",
    "    \n",
    "    一樣大比較簡單直接回傳\n",
    "    比較大/比較小 如果root旁邊的值跟target不一樣 要把root往(右/左)移動 "
   ]
  },
  {
   "cell_type": "markdown",
   "metadata": {},
   "source": [
    "    https://www.geeksforgeeks.org/binary-search-tree-set-2-delete/"
   ]
  },
  {
   "cell_type": "code",
   "execution_count": 31,
   "metadata": {},
   "outputs": [],
   "source": [
    "def minValueNode(root):  #算出最小\n",
    "    current = root\n",
    "   \n",
    "    while(current.left is not None): \n",
    "        current = current.left  \n",
    "  \n",
    "    return current "
   ]
  },
  {
   "cell_type": "markdown",
   "metadata": {},
   "source": [
    "    後續會用到 自動算出最小的數"
   ]
  },
  {
   "cell_type": "code",
   "execution_count": 41,
   "metadata": {},
   "outputs": [],
   "source": [
    "def delete(self, root, target):\n",
    "    \n",
    "    if root is None: \n",
    "        return root  \n",
    " \n",
    "    if target < root.val:                         #不是root的時候 移動root\n",
    "        root.left = delete(root.left,target) \n",
    "\n",
    "    if target > root.val: \n",
    "        root.right = delete(root.right,target) \n",
    " \n",
    "    else:               \n",
    "                                    #root = target時\n",
    "        if root.left is None : \n",
    "            temp = root.right  \n",
    "            root = None \n",
    "            return temp  \n",
    "              \n",
    "        elif root.right is None : \n",
    "            temp = root.left  \n",
    "            root = None\n",
    "            return temp \n",
    "   \n",
    "        temp = minValueNode(root.right) \n",
    "  \n",
    "        root.val = temp.val \n",
    "   \n",
    "        root.right = delete(root.right , temp.val) \n",
    "  \n",
    "  \n",
    "    return root  \n",
    "  "
   ]
  },
  {
   "cell_type": "markdown",
   "metadata": {},
   "source": []
  },
  {
   "cell_type": "code",
   "execution_count": 33,
   "metadata": {},
   "outputs": [],
   "source": [
    "def modify(self, root, target, new_val):\n",
    "    if target == new_val:\n",
    "        return root\n",
    "    else:\n",
    "        Solution().delete(root,target)\n",
    "        return Solution().insert(root,new_val)"
   ]
  },
  {
   "cell_type": "markdown",
   "metadata": {},
   "source": [
    "    修改：不一樣 >>> 刪掉 再用insert增加"
   ]
  },
  {
   "cell_type": "code",
   "execution_count": 40,
   "metadata": {},
   "outputs": [],
   "source": [
    "class Solution(object):\n",
    "    def insert(self, root, val):\n",
    "#         \"\"\"\n",
    "#         :type root: TreeNode\n",
    "#         :type val: int\n",
    "#         :rtype: TreeNode(inserted node)\n",
    "#         \"\"\"\n",
    "        newnode = TreeNode(val)      #連接到TreeNode\n",
    "\n",
    "        if root is None:\n",
    "            return newnode\n",
    "\n",
    "        else:\n",
    "            if root.val > val:\n",
    "                if root.right is None:\n",
    "                    root.right= newnode\n",
    "                    return root.right\n",
    "\n",
    "                else:\n",
    "    #                 insert(root.right,val)\n",
    "    #             return root.right\n",
    "                    return self.insert(root.left,val)\n",
    "\n",
    "\n",
    "            else:\n",
    "                if root.left is None:\n",
    "                    root.left= newnode\n",
    "                    return root.left\n",
    "                else:\n",
    "    #                 insert(root.left,val)\n",
    "    #             return root.left\n",
    "                    return self.insert(root.left,val)\n",
    "    \n",
    "    def minValueNode(root):  #算出最小\n",
    "        current = root\n",
    "\n",
    "        while(current.left is not None): \n",
    "            current = current.left  \n",
    "\n",
    "        return current \n",
    "\n",
    "\n",
    "    def delete(self, root, target):\n",
    "    \n",
    "        if root is None: \n",
    "            return root  \n",
    "\n",
    "        if target < root.val: \n",
    "            root.left = delete(root.left,target) \n",
    "\n",
    "        if target > root.val: \n",
    "            root.right = delete(root.right,target) \n",
    "\n",
    "        else:               \n",
    "                                        #root = target\n",
    "            if root.left is None : \n",
    "                temp = root.right  \n",
    "                root = None \n",
    "                return temp  \n",
    "\n",
    "            elif root.right is None : \n",
    "                temp = root.left  \n",
    "                root = None\n",
    "                return temp \n",
    "\n",
    "            temp = minValueNode(root.right) \n",
    "\n",
    "            root.val = temp.val \n",
    "\n",
    "            root.right = delete(root.right , temp.val) \n",
    "\n",
    "\n",
    "        return root  \n",
    "    \n",
    "    def search(self,root,target): \n",
    "        if root:              \n",
    "                                            # 3種不同的狀況\n",
    "            if  root.val == target: \n",
    "                return root \n",
    "\n",
    "            if root.val < target: \n",
    "                if root.left:\n",
    "\n",
    "                    if root.left.val == target:\n",
    "                        return root.left\n",
    "                                            # 移動root\n",
    "                    else:\n",
    "                        return self(root.left,target)\n",
    "\n",
    "                else:\n",
    "                    return None\n",
    "\n",
    "\n",
    "            if root.val > target:\n",
    "                if root.right:\n",
    "\n",
    "                    if root.right.val == target:\n",
    "                        return root.right\n",
    "                                            # 移動root\n",
    "                    else:\n",
    "                        return self(root.right,target)\n",
    "\n",
    "                else:\n",
    "                    return None\n",
    "\n",
    "        else:\n",
    "            return None\n",
    "\n",
    "    def modify(self, root, target, new_val):\n",
    "        if target == new_val:\n",
    "            return root\n",
    "        else:\n",
    "            Solution().delete(root,target)\n",
    "            return Solution().insert(root,new_val)\n"
   ]
  },
  {
   "cell_type": "markdown",
   "metadata": {},
   "source": [
    "    格式化"
   ]
  },
  {
   "cell_type": "markdown",
   "metadata": {},
   "source": [
    "    這次沒有用實測過\n",
    "    不知道會不會 都跑不了"
   ]
  },
  {
   "cell_type": "code",
   "execution_count": null,
   "metadata": {},
   "outputs": [],
   "source": []
  }
 ],
 "metadata": {
  "kernelspec": {
   "display_name": "Python 3",
   "language": "python",
   "name": "python3"
  },
  "language_info": {
   "codemirror_mode": {
    "name": "ipython",
    "version": 3
   },
   "file_extension": ".py",
   "mimetype": "text/x-python",
   "name": "python",
   "nbconvert_exporter": "python",
   "pygments_lexer": "ipython3",
   "version": "3.7.1"
  }
 },
 "nbformat": 4,
 "nbformat_minor": 2
}
